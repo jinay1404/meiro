{
  "nbformat": 4,
  "nbformat_minor": 0,
  "metadata": {
    "colab": { "provenance": [] },
    "kernelspec": { "name": "python3", "display_name": "Python 3" },
    "language_info": { "name": "python" }
  },
  "cells": [
    {
      "cell_type": "code",
      "source": [ "!pip install mesa --quiet" ],
      "metadata": { "id": "cR6hxub4VCWH" },
      "execution_count": 15, "outputs": []
    },
    {
      "cell_type": "code",
      "source": [
        "import numpy as np\n",
        "import matplotlib.pyplot as plt\n",
        "from matplotlib.colors import ListedColormap\n",
        "from mesa import Agent, Model\n",
        "from mesa.agent import AgentSet\n",
        "from mesa.space import MultiGrid"
      ],
      "metadata": { "id": "nMBBANdgbi5k" },
      "execution_count": 16, "outputs": []
    },
    { "cell_type": "markdown", "source": [ "Grid" ], "metadata": { "id": "1Utf0BugVPTz" } },
    {
      "cell_type": "code", "execution_count": 17, "metadata": { "id": "W0kP9k7UU3k8" }, "outputs": [],
      "source": [
        "class OperatingRegion(MultiGrid):\n",
        "    def __init__(self, width, height, n_pois):\n",
        "        super().__init__(width, height, torus=False)\n",
        "        self.width = width\n",
        "        self.height = height\n",
        "        self.pois = self._generate_pois(n_pois)\n",
        "\n",
        "    def _generate_pois(self, n_pois):\n",
        "        pois = []\n",
        "        for _ in range(n_pois):\n",
        "            x, y = np.random.randint(0, self.width), np.random.randint(0, self.height)\n",
        "            pois.append((x, y))\n",
        "        return pois\n",
        "\n",
        "    def is_within_bounds(self, pos):\n",
        "        x, y = pos\n",
        "        return 0 <= x < self.width and 0 <= y < self.height\n"
      ]
    },
    {
      "cell_type": "code",
      "source": [
        "region = OperatingRegion(width=100, height=100, n_pois=10)\n",
        "print(\"POIs:\", region.pois)\n",
        "#test grid"
      ],
      "metadata": { "id": "h_rqrdh5VKKD", "outputId": "f8fca7eb-c906-4afa-8766-6e11f563d52d" },
      "execution_count": 18,
      "outputs": [
        {
          "output_type": "stream",
          "name": "stdout",
          "text": [
            "POIs: [(55, 39), (44, 76), (76, 20), (95, 84), (82, 80), (56, 44), (87, 2), (83, 42), (12, 20), (80, 50)]\n"
          ]
        }
      ]
    },
    { "cell_type": "markdown", "source": [ "Driver" ], "metadata": { "id": "b5p59_QMVjn5" } },
    {
      "cell_type": "code", "execution_count": 19, "metadata": { "id": "EOdYVtNQVVBR" }, "outputs": [],
      "source": [
        "from mesa import Agent\n",
        "\n",
        "class Vehicle:\n",
        "    def __init__(self, vehicle_id, speed=1, capacity=1):\n",
        "        self.vehicle_id = vehicle_id\n",
        "        self.speed = speed\n",
        "        self.capacity = capacity\n",
        "\n",
        "class Driver(Agent):\n",
        "    def __init__(self, unique_id, model, vehicle, search_strategy=\"random\", insight_prob=0.5):\n",
        "        # super().__init__(unique_id, model)\n",
        "        self.unique_id = unique_id\n",
        "        self.model = model\n",
        "        self.pos = None\n",
        "        self.state = \"active\"  # or \"inactive\"\n",
        "        self.vehicle = vehicle\n",
        "        self.search_strategy = search_strategy\n",
        "        self.insight_prob = insight_prob\n",
        "        self.waiting_time = 0\n",
        "        self.working_time = 0\n",
        "\n",
        "    def step(self):\n",
        "        self.working_time += 1\n",
        "        self.waiting_time += 1\n",
        "\n",
        "        if self.search_strategy == \"random\":\n",
        "            self.random_move()\n",
        "        elif self.search_strategy == \"poi\":\n",
        "            self.move_to_poi()\n",
        "        elif self.search_strategy == \"ride_start\":\n",
        "            pass  # Will be defined when trips are integrated\n",
        "\n",
        "    def random_move(self):\n",
        "        possible_steps = self.model.grid.get_neighborhood(self.pos, moore=True, include_center=False)\n",
        "        valid_steps = [step for step in possible_steps if self.model.grid.is_cell_empty(step) and self.model.grid.is_within_bounds(step)]\n",
        "        if valid_steps:\n",
        "            new_pos = self.random.choice(valid_steps)\n",
        "            self.model.grid.move_agent(self, new_pos)\n",
        "\n",
        "    def move_to_poi(self):\n",
        "        if not self.model.grid.pois:\n",
        "            return\n",
        "        poi = self.random.choice(self.model.grid.pois)\n",
        "        x, y = self.pos\n",
        "        px, py = poi\n",
        "        dx = 1 if px > x else (-1 if px < x else 0)\n",
        "        dy = 1 if py > y else (-1 if py < y else 0)\n",
        "        new_pos = (x + dx, y + dy)\n",
        "        if self.model.grid.is_within_bounds(new_pos):\n",
        "            self.model.grid.move_agent(self, new_pos)\n"
      ]
    },
    { "cell_type": "markdown", "source": [ "Rider class" ], "metadata": { "id": "LBH09UsOVz8t" } },
    {
      "cell_type": "code", "execution_count": 20, "metadata": { "id": "muqfP6pOV128" }, "outputs": [],
      "source": [
        "from mesa import Agent\n",
        "from mesa.space import MultiGrid\n",
        "\n",
        "class DiscreteGrid(MultiGrid):\n",
        "    def move_agent(self, agent, pos):\n",
        "        if self.is_within_bounds(pos):\n",
        "            self.remove_agent(agent)\n",
        "            self.place_agent(agent, pos)\n",
        "\n",
        "class Rider(Agent):\n",
        "    def __init__(self, unique_id, model):\n",
        "        # super().__init__(unique_id, model)\n",
        "        self.unique_id = unique_id\n",
        "        self.model = model\n",
        "        self.pos = None\n",
        "        self.wait_time = 0\n",
        "\n",
        "    def step(self):\n",
        "        self.wait_time += 1\n"
      ]
    },
    { "cell_type": "markdown", "source": [ "Model" ], "metadata": { "id": "RQ6t__e4V8Oo" } },
    {
      "cell_type": "code", "execution_count": 21, "metadata": { "id": "e_FzA2vDV9H-" }, "outputs": [],
      "source": [
        "from mesa import Model\n",
        "import numpy as np\n",
        "from mesa.time import RandomActivation\n",
        "\n",
        "class RideShareModel(Model):\n",
        "    def __init__(self, width=100, height=100, n_drivers=None, n_riders=None, n_pois=10):\n",
        "        super().__init__()\n",
        "        self.n_drivers = n_drivers or np.random.randint(3, 10)\n",
        "        self.n_riders = n_riders or np.random.randint(5, 20)\n",
        "\n",
        "        self.grid = OperatingRegion(width, height, n_pois)\n",
        "        self.schedule = RandomActivation(self)\n",
        "\n",
        "        # Create drivers\n",
        "        for i in range(self.n_drivers):\n",
        "            vehicle = Vehicle(i)\n",
        "            driver = Driver(i, self, vehicle)\n",
        "            x, y = np.random.randint(0, width), np.random.randint(0, height)\n",
        "            self.grid.place_agent(driver, (x, y))\n",
        "            self.schedule.add(driver)\n",
        "\n",
        "        # Create riders\n",
        "        for i in range(self.n_riders):\n",
        "            rider = Rider(self.n_drivers + i, self)\n",
        "            x, y = np.random.randint(0, width), np.random.randint(0, height)\n",
        "            self.grid.place_agent(rider, (x, y))\n",
        "            self.schedule.add(rider)\n",
        "\n",
        "    def step(self):\n",
        "        self.schedule.step()\n"
      ]
    },
    { "cell_type": "markdown", "source": [ "visualization" ], "metadata": { "id": "8nwYBrpnfYVI" } },
    {
      "cell_type": "code", "execution_count": 22, "metadata": { "id": "ICjV3HQJfbAk" }, "outputs": [],
      "source": [
        "import matplotlib.pyplot as plt\n",
        "\n",
        "def plot_grid(model):\n",
        "    plt.figure(figsize=(6, 6))\n",
        "    ax = plt.gca()\n",
        "    ax.set_xlim(0, model.grid.width)\n",
        "    ax.set_ylim(0, model.grid.height)\n",
        "\n",
        "    # Plot POIs\n",
        "    for (x, y) in model.grid.pois:\n",
        "        plt.plot(x + 0.5, y + 0.5, \"r*\", markersize=10, label=\"POI\" if \"POI\" not in ax.get_legend_handles_labels()[1] else \"\")\n",
        "\n",
        "    # Plot agents\n",
        "    for agent in model.schedule.agents: # Changed from model.agents\n",
        "        x, y = agent.pos\n",
        "        if isinstance(agent, Driver):\n",
        "            plt.plot(x + 0.5, y + 0.5, \"bo\", label=\"Driver\" if \"Driver\" not in ax.get_legend_handles_labels()[1] else \"\")\n",
        "        elif isinstance(agent, Rider):\n",
        "            plt.plot(x + 0.5, y + 0.5, \"go\", label=\"Rider\" if \"Rider\" not in ax.get_legend_handles_labels()[1] else \"\")\n",
        "\n",
        "    plt.grid(True)\n",
        "    plt.legend()\n",
        "    plt.title(\"Simulation Step\")\n",
        "    plt.show()\n"
      ]
    },
    { "cell_type": "markdown", "source": [ "Simulation" ], "metadata": { "id": "XsFV3A23ffrg" } },
    {
      "cell_type": "code",
      "source": [
        "model = RideShareModel()\n",
        "\n",
        "for i in range(5):\n",
        "    print(f\"Step {i + 1}\")\n",
        "    model.step()\n",
        "    plot_grid(model)\n"
      ],
      "metadata": { "id": "tDkhEd2rfhN7", "outputId": "2155354f-d13f-49b2-d177-2faf67202c88" },
      "execution_count": 23,
      "outputs": [
        {
          "output_type": "error",
          "ename": "TypeError",
          "evalue": "object.__init__() takes exactly one argument (the instance to initialize)",
          "traceback": [
            "\u001b[0;31m---------------------------------------------------------------------------\u001b[0m",
            "\u001b[0;31mTypeError\u001b[0m                                 Traceback (most recent call last)",
            "\u001b[0;32m<ipython-input-23-f97842ff2830>\u001b[0m in \u001b[0;36m<cell line: 0>\u001b[0;34m()\u001b[0m\n\u001b[0;32m----> 1\u001b[0;31m \u001b[0mmodel\u001b[0m \u001b[0;34m=\u001b[0m \u001b[0mRideShareModel\u001b[0m\u001b[0;34m(\u001b[0m\u001b[0;34m)\u001b[0m\u001b[0;34m\u001b[0m\u001b[0;34m\u001b[0m\u001b[0m\n\u001b[0m\u001b[1;32m      2\u001b[0m \u001b[0;34m\u001b[0m\u001b[0m\n\u001b[1;32m      3\u001b[0m \u001b[0;32mfor\u001b[0m \u001b[0mi\u001b[0m \u001b[0;32min\u001b[0m \u001b[0mrange\u001b[0m\u001b[0;34m(\u001b[0m\u001b[0;36m5\u001b[0m\u001b[0;34m)\u001b[0m\u001b[0;34m:\u001b[0m\u001b[0;34m\u001b[0m\u001b[0;34m\u001b[0m\u001b[0m\n\u001b[1;32m      4\u001b[0m     \u001b[0mprint\u001b[0m\u001b[0;34m(\u001b[0m\u001b[0;34mf\"Step {i + 1}\"\u001b[0m\u001b[0;34m)\u001b[0m\u001b[0;34m\u001b[0m\u001b[0;34m\u001b[0m\u001b[0m\n\u001b[1;32m      5\u001b[0m     \u001b[0mmodel\u001b[0m\u001b[0;34m.\u001b[0m\u001b[0mstep\u001b[0m\u001b[0;34m(\u001b[0m\u001b[0;34m)\u001b[0m\u001b[0;34m\u001b[0m\u001b[0;34m\u001b[0m\u001b[0m\n",
            "\u001b[0;32m<ipython-input-21-e77d3e479a18>\u001b[0m in \u001b[0;36m__init__\u001b[0;34m(self, width, height, n_drivers, n_riders, n_pois)\u001b[0m\n\u001b[1;32m     23\u001b[0m         \u001b[0;31m# Create riders\u001b[0m\u001b[0;34m\u001b[0m\u001b[0;34m\u001b[0m\u001b[0m\n\u001b[1;32m     24\u001b[0m         \u001b[0;32mfor\u001b[0m \u001b[0mi\u001b[0m \u001b[0;32min\u001b[0m \u001b[0mrange\u001b[0m\u001b[0;34m(\u001b[0m\u001b[0mself\u001b[0m\u001b[0;34m.\u001b[0m\u001b[0mn_riders\u001b[0m\u001b[0;34m)\u001b[0m\u001b[0;34m:\u001b[0m\u001b[0;34m\u001b[0m\u001b[0;34m\u001b[0m\u001b[0m\n\u001b[0;32m---> 25\u001b[0;31m             \u001b[0mrider\u001b[0m \u001b[0;34m=\u001b[0m \u001b[0mRider\u001b[0m\u001b[0;34m(\u001b[0m\u001b[0mself\u001b[0m\u001b[0;34m.\u001b[0m\u001b[0mn_drivers\u001b[0m \u001b[0;34m+\u001b[0m \u001b[0mi\u001b[0m\u001b[0;34m,\u001b[0m \u001b[0mself\u001b[0m\u001b[0;34m)\u001b[0m\u001b[0;34m\u001b[0m\u001b[0;34m\u001b[0m\u001b[0m\n\u001b[0m\u001b[1;32m     26\u001b[0m             \u001b[0mx\u001b[0m\u001b[0;34m,\u001b[0m \u001b[0my\u001b[0m \u001b[0;34m=\u001b[0m \u001b[0mnp\u001b[0m\u001b[0;34m.\u001b[0m\u001b[0mrandom\u001b[0m\u001b[0;34m.\u001b[0m\u001b[0mrandint\u001b[0m\u001b[0;34m(\u001b[0m\u001b[0;36m0\u001b[0m\u001b[0;34m,\u001b[0m \u001b[0mwidth\u001b[0m\u001b[0;34m)\u001b[0m\u001b[0;34m,\u001b[0m \u001b[0mnp\u001b[0m\u001b[0;34m.\u001b[0m\u001b[0mrandom\u001b[0m\u001b[0;34m.\u001b[0m\u001b[0mrandint\u001b[0m\u001b[0;34m(\u001b[0m\u001b[0;36m0\u001b[0m\u001b[0;34m,\u001b[0m \u001b[0mheight\u001b[0m\u001b[0;34m)\u001b[0m\u001b[0;34m\u001b[0m\u001b[0;34m\u001b[0m\u001b[0m\n\u001b[1;32m     27\u001b[0m             \u001b[0mself\u001b[0m\u001b[0;34m.\u001b[0m\u001b[0mgrid\u001b[0m\u001b[0;34m.\u001b[0m\u001b[0mplace_agent\u001b[0m\u001b[0;34m(\u001b[0m\u001b[0mrider\u001b[0m\u001b[0;34m,\u001b[0m \u001b[0;34m(\u001b[0m\u001b[0mx\u001b[0m\u001b[0;34m,\u001b[0m \u001b[0my\u001b[0m\u001b[0;34m)\u001b[0m\u001b[0;34m)\u001b[0m\u001b[0;34m\u001b[0m\u001b[0;34m\u001b[0m\u001b[0m\n",
            "\u001b[0;32m<ipython-input-20-c22f3e9b8f09>\u001b[0m in \u001b[0;36m__init__\u001b[0;34m(self, unique_id, model)\u001b[0m\n\u001b[1;32m     11\u001b[0m         \u001b[0;31m# super().__init__(unique_id, model)\n\u001b[0m\u001b[0;34m\u001b[0m\u001b[0;34m\u001b[0m\u001b[0m\n\u001b[1;32m     12\u001b[0m         \u001b[0mself\u001b[0m\u001b[0;34m.\u001b[0m\u001b[0munique_id\u001b[0m \u001b[0;34m=\u001b[0m \u001b[0munique_id\u001b[0m\u001b[0;34m\u001b[0m\u001b[0;34m\u001b[0m\u001b[0m\n\u001b[0;32m---> 13\u001b[0;31m         \u001b[0mself\u001b[0m\u001b[0;34m.\u001b[0m\u001b[0mmodel\u001b[0m \u001b[0;34m=\u001b[0m \u001b[0mmodel\u001b[0m\u001b[0;34m\u001b[0m\u001b[0;34m\u001b[0m\u001b[0m\n\u001b[0m\u001b[1;32m     14\u001b[0m         \u001b[0mself\u001b[0m\u001b[0;34m.\u001b[0m\u001b[0mpos\u001b[0m \u001b[0;34m=\u001b[0m \u001b[0;32mNone\u001b[0m\u001b[0;34m\u001b[0m\u001b[0;34m\u001b[0m\u001b[0m\n\u001b[1;32m     15\u001b[0m         \u001b[0mself\u001b[0m\u001b[0;34m.\u001b[0m\u001b[0mwait_time\u001b[0m \u001b[0;34m=\u001b[0m \u001b[0;36m0\u001b[0m\u001b[0;34m\u001b[0m\u001b[0;34m\u001b[0m\u001b[0m\n",
            "\u001b[0;31mTypeError\u001b[0m: Agent.__init__() takes 1 positional argument but 3 were given"
          ]
        }
      ]
    }
  ]
}